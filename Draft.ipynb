{
 "metadata": {
  "language_info": {
   "codemirror_mode": {
    "name": "ipython",
    "version": 3
   },
   "file_extension": ".py",
   "mimetype": "text/x-python",
   "name": "python",
   "nbconvert_exporter": "python",
   "pygments_lexer": "ipython3",
   "version": "3.8.5-final"
  },
  "orig_nbformat": 2,
  "kernelspec": {
   "name": "python3",
   "display_name": "Python 3.8.5 64-bit ('test')",
   "metadata": {
    "interpreter": {
     "hash": "5193661795ebcbd9214bdf794a35d045701dba78f68a6a82d72f299b576f63ce"
    }
   }
  }
 },
 "nbformat": 4,
 "nbformat_minor": 2,
 "cells": [
  {
   "cell_type": "code",
   "execution_count": 83,
   "metadata": {},
   "outputs": [],
   "source": [
    "import requests as req\n",
    "import argparse \n",
    "import threading\n",
    "import os\n",
    "from bs4 import BeautifulSoup\n",
    "from fpdf import FPDF"
   ]
  },
  {
   "cell_type": "code",
   "execution_count": 74,
   "metadata": {},
   "outputs": [],
   "source": [
    "iurl = \"https://kodansha.us/series/a-silent-voice/\"\n",
    "response = req.get(iurl)"
   ]
  },
  {
   "cell_type": "code",
   "execution_count": 75,
   "metadata": {},
   "outputs": [],
   "source": [
    "soup = BeautifulSoup(response.text)\n",
    "mid = soup.find(\"manga-reader\")[\"chapter-id\"]"
   ]
  },
  {
   "cell_type": "code",
   "execution_count": 76,
   "metadata": {},
   "outputs": [],
   "source": [
    "jurl = \"https://kodansha.us/wp-content/themes/kodansha-usa/chapter-json.php\"\n",
    "Image_dir = \"images/\"\n",
    "Output_dir = \"output/\""
   ]
  },
  {
   "cell_type": "code",
   "execution_count": 77,
   "metadata": {},
   "outputs": [],
   "source": [
    "payload={'id': mid}\n",
    "response = req.post(jurl,data=payload)"
   ]
  },
  {
   "cell_type": "code",
   "execution_count": 78,
   "metadata": {},
   "outputs": [],
   "source": [
    "data = response.json()\n",
    "name = data[\"chapter_volume\"]\n",
    "url_list = data['chapter_pages']"
   ]
  },
  {
   "cell_type": "code",
   "execution_count": 79,
   "metadata": {},
   "outputs": [],
   "source": [
    "chapter_img_path = Image_dir+name+\"/\"\n",
    "try:\n",
    "    os.mkdir(chapter_img_path)\n",
    "except:\n",
    "    print(\"Folder Present\")"
   ]
  },
  {
   "cell_type": "code",
   "execution_count": 80,
   "metadata": {},
   "outputs": [],
   "source": [
    "def download(purl, file_loc):\n",
    "    img_res = req.get(purl)\n",
    "    if img_res.status_code == 200:\n",
    "        with open(file_loc, 'wb') as ifile:\n",
    "            ifile.write(img_res.content)"
   ]
  },
  {
   "cell_type": "code",
   "execution_count": 95,
   "metadata": {},
   "outputs": [],
   "source": [
    "def export_pdf(name):\n",
    "    pdf = FPDF('P','mm','A4')\n",
    "    x,y,w,h = 0,0,210,297\n",
    "    chapter_img_path = Image_dir+name+\"/\"\n",
    "    img_list = os.listdir(chapter_img_path)\n",
    "    img_count = len(img_list)\n",
    "    for ind in range(img_count):\n",
    "        page_name = chapter_img_path + str(ind) + \".jpg\"\n",
    "        pdf.add_page()\n",
    "        pdf.image(page_name,x,y,w,h)\n",
    "\n",
    "    pdf.output(Output_dir+name+\".pdf\",\"F\")"
   ]
  },
  {
   "cell_type": "code",
   "execution_count": 81,
   "metadata": {},
   "outputs": [],
   "source": [
    "for ind,obj in list(enumerate(url_list)):\n",
    "    purl = obj['url']\n",
    "    img_path = chapter_img_path + str(ind) + \".jpg\"\n",
    "    download_thread = threading.Thread(target=download, args=(purl,img_path))\n",
    "    download_thread.start()\n",
    "\n",
    "export_pdf(name)"
   ]
  }
 ]
}